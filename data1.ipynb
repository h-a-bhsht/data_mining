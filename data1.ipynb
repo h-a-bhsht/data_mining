{
  "nbformat": 4,
  "nbformat_minor": 0,
  "metadata": {
    "colab": {
      "provenance": [],
      "gpuType": "T4"
    },
    "kernelspec": {
      "name": "python3",
      "display_name": "Python 3"
    },
    "language_info": {
      "name": "python"
    },
    "accelerator": "GPU"
  },
  "cells": [
    {
      "cell_type": "code",
      "execution_count": 2,
      "metadata": {
        "id": "uZqS-_x5a432"
      },
      "outputs": [],
      "source": [
        "import pandas as pd\n",
        "\n",
        "df = pd.read_excel('Online Retail.xlsx')\n",
        "b_matrix = pd.crosstab(df['InvoiceNo'], df['StockCode'])\n",
        "b_matrix = (b_matrix > 0).astype(int)\n"
      ]
    },
    {
      "cell_type": "markdown",
      "source": [
        "step 3"
      ],
      "metadata": {
        "id": "3ZOflV1WbCxJ"
      }
    },
    {
      "cell_type": "code",
      "source": [
        "import pandas as pd\n",
        "\n",
        "df = pd.read_excel('Online Retail.xlsx')\n",
        "df_sorted = df.sort_values('InvoiceDate')\n",
        "batch_size = 10000\n",
        "batches = [df_sorted.iloc[i:i + batch_size] for i in range(0, len(df_sorted), batch_size)]\n",
        "\n",
        "\n"
      ],
      "metadata": {
        "id": "6-pB2ms9oOfu"
      },
      "execution_count": 3,
      "outputs": []
    },
    {
      "cell_type": "markdown",
      "source": [
        "step 4"
      ],
      "metadata": {
        "id": "0jkLZmYMtmMn"
      }
    },
    {
      "cell_type": "code",
      "source": [
        "import pandas as pd\n",
        "import numpy as np\n",
        "from sklearn.random_projection import GaussianRandomProjection\n",
        "from sklearn.decomposition import IncrementalPCA\n",
        "\n",
        "df = pd.read_excel('Online Retail.xlsx')\n",
        "df_sorted = df.sort_values('InvoiceDate')\n",
        "batch_size = 10000\n",
        "batches = [df_sorted.iloc[i:i + batch_size] for i in range(0, len(df_sorted), batch_size)]\n",
        "\n",
        "batch = batches[1]\n",
        "for countr in range(1):\n",
        "  #print(batch)\n",
        "  binary_matrix = pd.crosstab(batch['InvoiceNo'], batch['StockCode'])\n",
        "  binary_matrix = (binary_matrix > 0).astype(int)\n",
        "  X = binary_matrix.to_numpy()\n",
        "\n",
        "\n",
        "  rgp = GaussianRandomProjection(n_components=50)\n",
        "  rgp_result = rgp.fit_transform(X)\n",
        "  print(f\"Random Gaussian Projection result shape: {rgp_result.shape}\")\n",
        "\n",
        "  ipca = IncrementalPCA(n_components=50)\n",
        "  ipca.partial_fit(X)\n",
        "  ipca_result = ipca.transform(X)\n",
        "  print(f\"Incremental PCA result shape: {ipca_result.shape}\")\n",
        "\n",
        "\n",
        "\n",
        "  l = 50\n",
        "  n, d = X.shape\n",
        "  fd = np.zeros((l, d))\n",
        "  for i in range(n):\n",
        "    a = X[i,:].reshape(1, -1)\n",
        "    fd = np.vstack((fd, a))\n",
        "    U, S, Vt = np.linalg.svd(fd, full_matrices=False)\n",
        "    delta = S[l-1]**2\n",
        "    S = np.sqrt(np.maximum(S**2 - delta, 0))\n",
        "    fd = np.diag(S) @ Vt\n",
        "    fd = fd[:l, :]\n",
        "    ffd = X @ fd.T\n",
        "\n",
        "  print(f\"Frequesntly direction result shape: {ffd.shape}\")\n",
        "\n",
        "\n"
      ],
      "metadata": {
        "id": "k-07axaitnoV",
        "outputId": "27d9f01c-24c6-467a-b88d-5a4f98ded7c7",
        "colab": {
          "base_uri": "https://localhost:8080/"
        }
      },
      "execution_count": 7,
      "outputs": [
        {
          "output_type": "stream",
          "name": "stdout",
          "text": [
            "Random Gaussian Projection result shape: (427, 50)\n",
            "Incremental PCA result shape: (427, 50)\n",
            "Frequesntly direction result shape: (427, 50)\n"
          ]
        }
      ]
    },
    {
      "cell_type": "markdown",
      "source": [
        "step 5"
      ],
      "metadata": {
        "id": "ZSpiLZ7oqVak"
      }
    },
    {
      "cell_type": "code",
      "source": [
        "import pandas as pd\n",
        "import numpy as np\n",
        "from sklearn.random_projection import GaussianRandomProjection\n",
        "from sklearn.decomposition import IncrementalPCA\n",
        "from numpy.linalg import norm\n",
        "\n",
        "df = pd.read_excel('Online Retail.xlsx')\n",
        "df_sorted = df.sort_values('InvoiceDate')\n",
        "batch_size = 10000\n",
        "batches = [df_sorted.iloc[i:i + batch_size] for i in range(0, len(df_sorted), batch_size)]\n",
        "\n",
        "#batch = batches[1]\n",
        "\n",
        "for idx,batch in enumerate(batches):\n",
        "  binary_matrix = pd.crosstab(batch['InvoiceNo'], batch['StockCode'])\n",
        "  binary_matrix = (binary_matrix > 0).astype(int)\n",
        "  X = binary_matrix.to_numpy()\n",
        "\n",
        "  rgp = GaussianRandomProjection(n_components=50)\n",
        "  rgp_result = rgp.fit_transform(X)\n",
        "  W = rgp.components_\n",
        "  re_rgp = rgp_result @ W\n",
        "  print(f\"Batch {idx+1}: Shape={rgp_result.shape}, Frobenius={norm(X - re_rgp, 'fro')}, MSE={np.mean((X - re_rgp) ** 2)}, ExplainedVar=Not Applicable\")\n",
        "\n",
        "\n",
        "  ipca = IncrementalPCA(n_components=50)\n",
        "  ipca.partial_fit(X)\n",
        "  ipca_result = ipca.transform(X)\n",
        "  re_ipca = ipca.inverse_transform(ipca_result)\n",
        "  explained_var = np.sum(ipca.explained_variance_ratio_)\n",
        "  print(f\"Batch {idx+1}: Shape={ipca_result.shape}, Frobenius={norm(X - re_ipca, 'fro')}, MSE={np.mean((X - re_ipca) ** 2)}, ExplainedVar={explained_var}\")\n",
        "\n",
        "\n",
        "  l = 50\n",
        "  n, d = X.shape\n",
        "  fd = np.zeros((l, d))\n",
        "  for i in range(n):\n",
        "    a = X[i,:].reshape(1, -1)\n",
        "    fd = np.vstack((fd, a))\n",
        "    U, S, Vt = np.linalg.svd(fd, full_matrices=False)\n",
        "    delta = S[l-1]**2\n",
        "    S = np.sqrt(np.maximum(S**2 - delta, 0))\n",
        "    fd = np.diag(S) @ Vt\n",
        "    fd = fd[:l, :]\n",
        "    fd_result = X @ fd.T\n",
        "  re_fd = fd_result @ np.linalg.pinv(fd)\n",
        "  print(f\"Batch {idx+1}: Shape={fd_result.shape}, Frobenius={norm(X - re_fd, 'fro')}, MSE={np.mean((X - re_fd) ** 2)}, ExplainedVar=Not Applicable\")\n",
        "\n",
        "\n",
        "\n",
        "\n",
        "\n"
      ],
      "metadata": {
        "colab": {
          "base_uri": "https://localhost:8080/",
          "height": 356
        },
        "id": "NPnj6a5yqW0S",
        "outputId": "3914c8ea-9eac-439b-a3eb-bfd9d1aca4a8"
      },
      "execution_count": 1,
      "outputs": [
        {
          "output_type": "error",
          "ename": "FileNotFoundError",
          "evalue": "[Errno 2] No such file or directory: 'Online Retail.xlsx'",
          "traceback": [
            "\u001b[0;31m---------------------------------------------------------------------------\u001b[0m",
            "\u001b[0;31mFileNotFoundError\u001b[0m                         Traceback (most recent call last)",
            "\u001b[0;32m/tmp/ipython-input-1652661489.py\u001b[0m in \u001b[0;36m<cell line: 0>\u001b[0;34m()\u001b[0m\n\u001b[1;32m      5\u001b[0m \u001b[0;32mfrom\u001b[0m \u001b[0mnumpy\u001b[0m\u001b[0;34m.\u001b[0m\u001b[0mlinalg\u001b[0m \u001b[0;32mimport\u001b[0m \u001b[0mnorm\u001b[0m\u001b[0;34m\u001b[0m\u001b[0;34m\u001b[0m\u001b[0m\n\u001b[1;32m      6\u001b[0m \u001b[0;34m\u001b[0m\u001b[0m\n\u001b[0;32m----> 7\u001b[0;31m \u001b[0mdf\u001b[0m \u001b[0;34m=\u001b[0m \u001b[0mpd\u001b[0m\u001b[0;34m.\u001b[0m\u001b[0mread_excel\u001b[0m\u001b[0;34m(\u001b[0m\u001b[0;34m'Online Retail.xlsx'\u001b[0m\u001b[0;34m)\u001b[0m\u001b[0;34m\u001b[0m\u001b[0;34m\u001b[0m\u001b[0m\n\u001b[0m\u001b[1;32m      8\u001b[0m \u001b[0mdf_sorted\u001b[0m \u001b[0;34m=\u001b[0m \u001b[0mdf\u001b[0m\u001b[0;34m.\u001b[0m\u001b[0msort_values\u001b[0m\u001b[0;34m(\u001b[0m\u001b[0;34m'InvoiceDate'\u001b[0m\u001b[0;34m)\u001b[0m\u001b[0;34m\u001b[0m\u001b[0;34m\u001b[0m\u001b[0m\n\u001b[1;32m      9\u001b[0m \u001b[0mbatch_size\u001b[0m \u001b[0;34m=\u001b[0m \u001b[0;36m10000\u001b[0m\u001b[0;34m\u001b[0m\u001b[0;34m\u001b[0m\u001b[0m\n",
            "\u001b[0;32m/usr/local/lib/python3.12/dist-packages/pandas/io/excel/_base.py\u001b[0m in \u001b[0;36mread_excel\u001b[0;34m(io, sheet_name, header, names, index_col, usecols, dtype, engine, converters, true_values, false_values, skiprows, nrows, na_values, keep_default_na, na_filter, verbose, parse_dates, date_parser, date_format, thousands, decimal, comment, skipfooter, storage_options, dtype_backend, engine_kwargs)\u001b[0m\n\u001b[1;32m    493\u001b[0m     \u001b[0;32mif\u001b[0m \u001b[0;32mnot\u001b[0m \u001b[0misinstance\u001b[0m\u001b[0;34m(\u001b[0m\u001b[0mio\u001b[0m\u001b[0;34m,\u001b[0m \u001b[0mExcelFile\u001b[0m\u001b[0;34m)\u001b[0m\u001b[0;34m:\u001b[0m\u001b[0;34m\u001b[0m\u001b[0;34m\u001b[0m\u001b[0m\n\u001b[1;32m    494\u001b[0m         \u001b[0mshould_close\u001b[0m \u001b[0;34m=\u001b[0m \u001b[0;32mTrue\u001b[0m\u001b[0;34m\u001b[0m\u001b[0;34m\u001b[0m\u001b[0m\n\u001b[0;32m--> 495\u001b[0;31m         io = ExcelFile(\n\u001b[0m\u001b[1;32m    496\u001b[0m             \u001b[0mio\u001b[0m\u001b[0;34m,\u001b[0m\u001b[0;34m\u001b[0m\u001b[0;34m\u001b[0m\u001b[0m\n\u001b[1;32m    497\u001b[0m             \u001b[0mstorage_options\u001b[0m\u001b[0;34m=\u001b[0m\u001b[0mstorage_options\u001b[0m\u001b[0;34m,\u001b[0m\u001b[0;34m\u001b[0m\u001b[0;34m\u001b[0m\u001b[0m\n",
            "\u001b[0;32m/usr/local/lib/python3.12/dist-packages/pandas/io/excel/_base.py\u001b[0m in \u001b[0;36m__init__\u001b[0;34m(self, path_or_buffer, engine, storage_options, engine_kwargs)\u001b[0m\n\u001b[1;32m   1548\u001b[0m                 \u001b[0mext\u001b[0m \u001b[0;34m=\u001b[0m \u001b[0;34m\"xls\"\u001b[0m\u001b[0;34m\u001b[0m\u001b[0;34m\u001b[0m\u001b[0m\n\u001b[1;32m   1549\u001b[0m             \u001b[0;32melse\u001b[0m\u001b[0;34m:\u001b[0m\u001b[0;34m\u001b[0m\u001b[0;34m\u001b[0m\u001b[0m\n\u001b[0;32m-> 1550\u001b[0;31m                 ext = inspect_excel_format(\n\u001b[0m\u001b[1;32m   1551\u001b[0m                     \u001b[0mcontent_or_path\u001b[0m\u001b[0;34m=\u001b[0m\u001b[0mpath_or_buffer\u001b[0m\u001b[0;34m,\u001b[0m \u001b[0mstorage_options\u001b[0m\u001b[0;34m=\u001b[0m\u001b[0mstorage_options\u001b[0m\u001b[0;34m\u001b[0m\u001b[0;34m\u001b[0m\u001b[0m\n\u001b[1;32m   1552\u001b[0m                 )\n",
            "\u001b[0;32m/usr/local/lib/python3.12/dist-packages/pandas/io/excel/_base.py\u001b[0m in \u001b[0;36minspect_excel_format\u001b[0;34m(content_or_path, storage_options)\u001b[0m\n\u001b[1;32m   1400\u001b[0m         \u001b[0mcontent_or_path\u001b[0m \u001b[0;34m=\u001b[0m \u001b[0mBytesIO\u001b[0m\u001b[0;34m(\u001b[0m\u001b[0mcontent_or_path\u001b[0m\u001b[0;34m)\u001b[0m\u001b[0;34m\u001b[0m\u001b[0;34m\u001b[0m\u001b[0m\n\u001b[1;32m   1401\u001b[0m \u001b[0;34m\u001b[0m\u001b[0m\n\u001b[0;32m-> 1402\u001b[0;31m     with get_handle(\n\u001b[0m\u001b[1;32m   1403\u001b[0m         \u001b[0mcontent_or_path\u001b[0m\u001b[0;34m,\u001b[0m \u001b[0;34m\"rb\"\u001b[0m\u001b[0;34m,\u001b[0m \u001b[0mstorage_options\u001b[0m\u001b[0;34m=\u001b[0m\u001b[0mstorage_options\u001b[0m\u001b[0;34m,\u001b[0m \u001b[0mis_text\u001b[0m\u001b[0;34m=\u001b[0m\u001b[0;32mFalse\u001b[0m\u001b[0;34m\u001b[0m\u001b[0;34m\u001b[0m\u001b[0m\n\u001b[1;32m   1404\u001b[0m     ) as handle:\n",
            "\u001b[0;32m/usr/local/lib/python3.12/dist-packages/pandas/io/common.py\u001b[0m in \u001b[0;36mget_handle\u001b[0;34m(path_or_buf, mode, encoding, compression, memory_map, is_text, errors, storage_options)\u001b[0m\n\u001b[1;32m    880\u001b[0m         \u001b[0;32melse\u001b[0m\u001b[0;34m:\u001b[0m\u001b[0;34m\u001b[0m\u001b[0;34m\u001b[0m\u001b[0m\n\u001b[1;32m    881\u001b[0m             \u001b[0;31m# Binary mode\u001b[0m\u001b[0;34m\u001b[0m\u001b[0;34m\u001b[0m\u001b[0m\n\u001b[0;32m--> 882\u001b[0;31m             \u001b[0mhandle\u001b[0m \u001b[0;34m=\u001b[0m \u001b[0mopen\u001b[0m\u001b[0;34m(\u001b[0m\u001b[0mhandle\u001b[0m\u001b[0;34m,\u001b[0m \u001b[0mioargs\u001b[0m\u001b[0;34m.\u001b[0m\u001b[0mmode\u001b[0m\u001b[0;34m)\u001b[0m\u001b[0;34m\u001b[0m\u001b[0;34m\u001b[0m\u001b[0m\n\u001b[0m\u001b[1;32m    883\u001b[0m         \u001b[0mhandles\u001b[0m\u001b[0;34m.\u001b[0m\u001b[0mappend\u001b[0m\u001b[0;34m(\u001b[0m\u001b[0mhandle\u001b[0m\u001b[0;34m)\u001b[0m\u001b[0;34m\u001b[0m\u001b[0;34m\u001b[0m\u001b[0m\n\u001b[1;32m    884\u001b[0m \u001b[0;34m\u001b[0m\u001b[0m\n",
            "\u001b[0;31mFileNotFoundError\u001b[0m: [Errno 2] No such file or directory: 'Online Retail.xlsx'"
          ]
        }
      ]
    }
  ]
}