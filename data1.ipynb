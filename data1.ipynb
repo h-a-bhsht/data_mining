{
  "nbformat": 4,
  "nbformat_minor": 0,
  "metadata": {
    "colab": {
      "provenance": [],
      "gpuType": "T4"
    },
    "kernelspec": {
      "name": "python3",
      "display_name": "Python 3"
    },
    "language_info": {
      "name": "python"
    },
    "accelerator": "GPU"
  },
  "cells": [
    {
      "cell_type": "code",
      "execution_count": 2,
      "metadata": {
        "id": "uZqS-_x5a432"
      },
      "outputs": [],
      "source": [
        "import pandas as pd\n",
        "\n",
        "df = pd.read_excel('Online Retail.xlsx')\n",
        "b_matrix = pd.crosstab(df['InvoiceNo'], df['StockCode'])\n",
        "b_matrix = (b_matrix > 0).astype(int)\n"
      ]
    },
    {
      "cell_type": "markdown",
      "source": [
        "step 3"
      ],
      "metadata": {
        "id": "3ZOflV1WbCxJ"
      }
    },
    {
      "cell_type": "code",
      "source": [
        "import pandas as pd\n",
        "\n",
        "df = pd.read_excel('Online Retail.xlsx')\n",
        "df_sorted = df.sort_values('InvoiceDate')\n",
        "batch_size = 10000\n",
        "batches = [df_sorted.iloc[i:i + batch_size] for i in range(0, len(df_sorted), batch_size)]\n",
        "\n",
        "\n"
      ],
      "metadata": {
        "id": "6-pB2ms9oOfu"
      },
      "execution_count": 3,
      "outputs": []
    },
    {
      "cell_type": "markdown",
      "source": [
        "step 4"
      ],
      "metadata": {
        "id": "0jkLZmYMtmMn"
      }
    },
    {
      "cell_type": "code",
      "source": [
        "import pandas as pd\n",
        "import numpy as np\n",
        "from sklearn.random_projection import GaussianRandomProjection\n",
        "from sklearn.decomposition import IncrementalPCA\n",
        "\n",
        "df = pd.read_excel('Online Retail.xlsx')\n",
        "df_sorted = df.sort_values('InvoiceDate')\n",
        "batch_size = 10000\n",
        "batches = [df_sorted.iloc[i:i + batch_size] for i in range(0, len(df_sorted), batch_size)]\n",
        "\n",
        "batch = batches[1]\n",
        "for countr in range(1):\n",
        "  #print(batch)\n",
        "  binary_matrix = pd.crosstab(batch['InvoiceNo'], batch['StockCode'])\n",
        "  binary_matrix = (binary_matrix > 0).astype(int)\n",
        "  X = binary_matrix.to_numpy()\n",
        "\n",
        "\n",
        "  rgp = GaussianRandomProjection(n_components=50)\n",
        "  rgp_result = rgp.fit_transform(X)\n",
        "  print(f\"Random Gaussian Projection result shape: {rgp_result.shape}\")\n",
        "\n",
        "  ipca = IncrementalPCA(n_components=50)\n",
        "  ipca.partial_fit(X)\n",
        "  ipca_result = ipca.transform(X)\n",
        "  print(f\"Incremental PCA result shape: {ipca_result.shape}\")\n",
        "\n",
        "\n",
        "\n",
        "  l = 50\n",
        "  n, d = X.shape\n",
        "  fd = np.zeros((l, d))\n",
        "  for i in range(n):\n",
        "    a = X[i,:].reshape(1, -1)\n",
        "    fd = np.vstack((fd, a))\n",
        "    U, S, Vt = np.linalg.svd(fd, full_matrices=False)\n",
        "    delta = S[l-1]**2\n",
        "    S = np.sqrt(np.maximum(S**2 - delta, 0))\n",
        "    fd = np.diag(S) @ Vt\n",
        "    fd = fd[:l, :]\n",
        "    ffd = X @ fd.T\n",
        "\n",
        "  print(f\"Frequesntly direction result shape: {ffd.shape}\")\n",
        "\n",
        "\n"
      ],
      "metadata": {
        "id": "k-07axaitnoV",
        "outputId": "27d9f01c-24c6-467a-b88d-5a4f98ded7c7",
        "colab": {
          "base_uri": "https://localhost:8080/"
        }
      },
      "execution_count": 7,
      "outputs": [
        {
          "output_type": "stream",
          "name": "stdout",
          "text": [
            "Random Gaussian Projection result shape: (427, 50)\n",
            "Incremental PCA result shape: (427, 50)\n",
            "Frequesntly direction result shape: (427, 50)\n"
          ]
        }
      ]
    },
    {
      "cell_type": "markdown",
      "source": [],
      "metadata": {
        "id": "ZSpiLZ7oqVak"
      }
    },
    {
      "cell_type": "code",
      "source": [],
      "metadata": {
        "id": "NPnj6a5yqW0S"
      },
      "execution_count": null,
      "outputs": []
    }
  ]
}